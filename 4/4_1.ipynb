{
  "nbformat": 4,
  "nbformat_minor": 0,
  "metadata": {
    "colab": {
      "provenance": [],
      "authorship_tag": "ABX9TyNITTu5/0vXENw3wtxKcYTR",
      "include_colab_link": true
    },
    "kernelspec": {
      "name": "python3",
      "display_name": "Python 3"
    },
    "language_info": {
      "name": "python"
    }
  },
  "cells": [
    {
      "cell_type": "markdown",
      "metadata": {
        "id": "view-in-github",
        "colab_type": "text"
      },
      "source": [
        "<a href=\"https://colab.research.google.com/github/gers-nishimura/colab01/blob/main/4/4_1.ipynb\" target=\"_parent\"><img src=\"https://colab.research.google.com/assets/colab-badge.svg\" alt=\"Open In Colab\"/></a>"
      ]
    },
    {
      "cell_type": "code",
      "source": [
        "# -*- coding: utf-8 -*-\n",
        "import subprocess\n",
        "import picamera\n",
        "import os\n",
        "from time import sleep\n",
        "\n",
        "shutter_numb = 0\n",
        "photo_dir = os.path.expanduser('~/denpa-gardening/photo_data')\n",
        "\n",
        "camera = picamera.PiCamera()\n",
        "\n",
        "def setting():\n",
        "    camera.resolution = (2592,1944)\n",
        "    # camera.brightness = 50\n",
        "    # camera.flash_mode = 'on'\n",
        "    # camera.exposure_compensation = 0\n",
        "\n",
        "def preview(preview_time = 3):\n",
        "    camera.start_preview()\n",
        "    sleep(preview_time)\n",
        "    camera.stop_preview()\n",
        "\n",
        "def loadFile():\n",
        "    global shutter_numb\n",
        "\n",
        "    if os.path.isdir(photo_dir):\n",
        "        pass\n",
        "    else:\n",
        "        print(\"make photo directory\")\n",
        "        os.mkdir(photo_dir)\n",
        "\n",
        "    filename = os.path.join(photo_dir, 'camera.set')\n",
        "\n",
        "    if os.path.isfile(filename):\n",
        "        pass\n",
        "    else:\n",
        "        print(\"make camera set file\")\n",
        "        with open(filename, mode='w') as fp:\n",
        "            fp.write('0')\n",
        "\n",
        "    with open(filename) as fp:\n",
        "        fp = open(filename)\n",
        "        tmp_shutter_numb = fp.readlines()\n",
        "        tmp_shutter_numb = tmp_shutter_numb[0].rstrip()\n",
        "        shutter_numb = int(tmp_shutter_numb)\n",
        "\n",
        "def shutter():\n",
        "    global shutter_numb\n",
        "\n",
        "    # load shutter number from setting file\n",
        "    loadFile()\n",
        "\n",
        "    filename = os.path.join(photo_dir, 'camera.set')\n",
        "\n",
        "    shutter_numb += 1\n",
        "\n",
        "    # write shutter number to setting file\n",
        "    with open(filename, mode='w') as fp:\n",
        "        fp.write(str(shutter_numb))\n",
        "\n",
        "    # take photo\n",
        "    filename = os.path.join(photo_dir, str(\"{0:06d}\".format(shutter_numb)) + '.jpg')\n",
        "    print(filename)\n",
        "    with open(filename, mode='wb') as fp:\n",
        "        camera.capture(fp)\n",
        "\n",
        "if __name__ == '__main__':\n",
        "    setting()\n",
        "    preview()\n",
        "    shutter()\n",
        "    camera.close()"
      ],
      "metadata": {
        "id": "2-m1UlowAsKD"
      },
      "execution_count": null,
      "outputs": []
    },
    {
      "cell_type": "markdown",
      "source": [
        "# ありゃりゃ"
      ],
      "metadata": {
        "id": "PvsN-XVS_otE"
      }
    }
  ]
}