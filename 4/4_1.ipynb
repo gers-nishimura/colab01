{
  "nbformat": 4,
  "nbformat_minor": 0,
  "metadata": {
    "colab": {
      "provenance": [],
      "authorship_tag": "ABX9TyNfEPWgUoBAKocJpzONg68O",
      "include_colab_link": true
    },
    "kernelspec": {
      "name": "python3",
      "display_name": "Python 3"
    },
    "language_info": {
      "name": "python"
    }
  },
  "cells": [
    {
      "cell_type": "markdown",
      "metadata": {
        "id": "view-in-github",
        "colab_type": "text"
      },
      "source": [
        "<a href=\"https://colab.research.google.com/github/gers-nishimura/colab01/blob/main/4/4_1.ipynb\" target=\"_parent\"><img src=\"https://colab.research.google.com/assets/colab-badge.svg\" alt=\"Open In Colab\"/></a>"
      ]
    },
    {
      "cell_type": "code",
      "source": [
        "str1 =''\n",
        "for i in range(10):\n",
        "  str1 += str(i)\n",
        "  str1 += ' '\n",
        "print(str1)"
      ],
      "metadata": {
        "id": "2-m1UlowAsKD"
      },
      "execution_count": null,
      "outputs": []
    },
    {
      "cell_type": "markdown",
      "source": [
        "# ありゃりゃ"
      ],
      "metadata": {
        "id": "PvsN-XVS_otE"
      }
    }
  ]
}