{
  "nbformat": 4,
  "nbformat_minor": 0,
  "metadata": {
    "colab": {
      "provenance": [],
      "authorship_tag": "ABX9TyMPB4aWPR+3KG5DOB0Bjz/L",
      "include_colab_link": true
    },
    "kernelspec": {
      "name": "python3",
      "display_name": "Python 3"
    },
    "language_info": {
      "name": "python"
    }
  },
  "cells": [
    {
      "cell_type": "markdown",
      "metadata": {
        "id": "view-in-github",
        "colab_type": "text"
      },
      "source": [
        "<a href=\"https://colab.research.google.com/github/gers-nishimura/colab01/blob/main/4/4_1.ipynb\" target=\"_parent\"><img src=\"https://colab.research.google.com/assets/colab-badge.svg\" alt=\"Open In Colab\"/></a>"
      ]
    },
    {
      "cell_type": "code",
      "execution_count": null,
      "metadata": {
        "id": "66zOLdgr_nAw"
      },
      "outputs": [],
      "source": [
        "for i in range(10):\n",
        "  str1 += str(i) + ' '\n",
        "  print(str1)"
      ]
    },
    {
      "cell_type": "markdown",
      "source": [
        "# ありゃりゃ"
      ],
      "metadata": {
        "id": "PvsN-XVS_otE"
      }
    }
  ]
}