{
  "cells": [
    {
      "cell_type": "markdown",
      "metadata": {
        "id": "view-in-github",
        "colab_type": "text"
      },
      "source": [
        "<a href=\"https://colab.research.google.com/github/gers-nishimura/colab01/blob/main/index.ipynb\" target=\"_parent\"><img src=\"https://colab.research.google.com/assets/colab-badge.svg\" alt=\"Open In Colab\"/></a>"
      ]
    },
    {
      "cell_type": "markdown",
      "metadata": {
        "id": "4-RWQh48CD6O"
      },
      "source": [
        "# ipynb 形式のページだよ"
      ]
    },
    {
      "cell_type": "code",
      "execution_count": null,
      "metadata": {
        "id": "CCa0lhecvR0D"
      },
      "outputs": [],
      "source": [
        "# -*- coding: utf-8 -*-\n",
        "import subprocess\n",
        "import os\n",
        "from time import sleep\n",
        "\n",
        "shutter_numb = 0\n",
        "photo_dir = os.path.expanduser('~/denpa-gardening/photo_data')"
      ]
    },
    {
      "cell_type": "markdown",
      "source": [
        "テキストを追加したよ\n"
      ],
      "metadata": {
        "id": "4AffLgNNHIH1"
      }
    }
  ],
  "metadata": {
    "colab": {
      "provenance": [],
      "include_colab_link": true
    },
    "kernelspec": {
      "display_name": "Python 3",
      "name": "python3"
    },
    "language_info": {
      "name": "python"
    }
  },
  "nbformat": 4,
  "nbformat_minor": 0
}