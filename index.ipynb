{
  "cells": [
    {
      "cell_type": "markdown",
      "metadata": {
        "id": "view-in-github",
        "colab_type": "text"
      },
      "source": [
        "<a href=\"https://colab.research.google.com/github/gers-nishimura/colab01/blob/main/index.ipynb\" target=\"_parent\"><img src=\"https://colab.research.google.com/assets/colab-badge.svg\" alt=\"Open In Colab\"/></a>"
      ]
    },
    {
      "cell_type": "code",
      "execution_count": null,
      "metadata": {
        "id": "CCa0lhecvR0D"
      },
      "outputs": [],
      "source": []
    },
    {
      "cell_type": "markdown",
      "metadata": {
        "id": "DmVlOcKnwUSu"
      },
      "source": [
        "# 新しいセクション"
      ]
    },
    {
      "cell_type": "markdown",
      "metadata": {
        "id": "IfRoajRVx6P7"
      },
      "source": [
        "[見出し1-1](1/1-1.ipynb)"
      ]
    },
    {
      "cell_type": "markdown",
      "metadata": {
        "id": "wP_MKpMn_PY3"
      },
      "source": [
        "[見出し2-1](2/2-1.ipynb)"
      ]
    },
    {
      "cell_type": "markdown",
      "source": [
        "[見出し3-1](3/3-1.ipynb)"
      ],
      "metadata": {
        "id": "-UEYEKTc_QPY"
      }
    },
    {
      "cell_type": "markdown",
      "source": [
        "[見出し5-1](5/5_1.ipynb)"
      ],
      "metadata": {
        "id": "ONrn7o-q7DR4"
      }
    }
  ],
  "metadata": {
    "colab": {
      "provenance": [],
      "include_colab_link": true
    },
    "kernelspec": {
      "display_name": "Python 3",
      "name": "python3"
    },
    "language_info": {
      "name": "python"
    }
  },
  "nbformat": 4,
  "nbformat_minor": 0
}