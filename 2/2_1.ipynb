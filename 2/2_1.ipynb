{
  "nbformat": 4,
  "nbformat_minor": 0,
  "metadata": {
    "colab": {
      "provenance": [],
      "authorship_tag": "ABX9TyPM8hu3IyZlLvWtILpxE2mF",
      "include_colab_link": true
    },
    "kernelspec": {
      "name": "python3",
      "display_name": "Python 3"
    },
    "language_info": {
      "name": "python"
    }
  },
  "cells": [
    {
      "cell_type": "markdown",
      "metadata": {
        "id": "view-in-github",
        "colab_type": "text"
      },
      "source": [
        "<a href=\"https://colab.research.google.com/github/gers-nishimura/colab01/blob/main/2/2_1.ipynb\" target=\"_parent\"><img src=\"https://colab.research.google.com/assets/colab-badge.svg\" alt=\"Open In Colab\"/></a>"
      ]
    },
    {
      "cell_type": "code",
      "execution_count": null,
      "metadata": {
        "id": "EmGAgM5Iyd0v"
      },
      "outputs": [],
      "source": []
    },
    {
      "cell_type": "markdown",
      "source": [
        "# 見出し2-1"
      ],
      "metadata": {
        "id": "rRAl6i8-yfZs"
      }
    },
    {
      "cell_type": "markdown",
      "source": [
        "[リンクテキスト](../index.ipynb)"
      ],
      "metadata": {
        "id": "DyiMjH1Cyi-N"
      }
    }
  ]
}